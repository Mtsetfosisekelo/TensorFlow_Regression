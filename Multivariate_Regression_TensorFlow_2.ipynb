{
  "nbformat": 4,
  "nbformat_minor": 0,
  "metadata": {
    "colab": {
      "name": "Multivariate_Regression_TensorFlow_2.ipynb",
      "provenance": [],
      "collapsed_sections": []
    },
    "kernelspec": {
      "name": "python3",
      "display_name": "Python 3"
    },
    "language_info": {
      "name": "python"
    }
  },
  "cells": [
    {
      "cell_type": "markdown",
      "source": [
        "**I**  have  provided  a  dataset  which  has  a  number  of  features  and  a  single  target (column called ``target'').  Your  task  is  to  use  neural  networks  to address  this  regression problem.\n",
        "\n",
        "Import the dataset using Pandas as follows:\n",
        "\n",
        "```\n",
        "pandas.read_csv(\"https://protect-za.mimecast.com/s/vYKICAnX51iR2wOPiM4hPa\")\n",
        "```"
      ],
      "metadata": {
        "id": "rNjoHrFZWs9G"
      }
    },
    {
      "cell_type": "code",
      "source": [
        "import pandas as pd\n",
        "import numpy as np\n",
        "import tensorflow as tf\n",
        "from tensorflow.keras import Sequential #create model\n",
        "from tensorflow.keras.layers import Dense #add layers to model\n",
        "from tensorflow.keras import metrics\n",
        "from tensorflow.keras.wrappers.scikit_learn import KerasRegressor\n",
        "from sklearn.metrics import mean_squared_error,mean_absolute_error #to calculate mse\n",
        "from sklearn.model_selection import train_test_split #to split the data\n",
        "import matplotlib.pyplot as plt\n",
        "from sklearn.preprocessing import StandardScaler\n",
        "np.random.seed(1337) # for reproducibility"
      ],
      "metadata": {
        "id": "lad3vkn3XsQv"
      },
      "execution_count": null,
      "outputs": []
    },
    {
      "cell_type": "code",
      "source": [
        "df = pd.read_csv(\"https://protect-za.mimecast.com/s/vYKICAnX51iR2wOPiM4hPa\") #reading the data\n",
        "df = pd.DataFrame(df)\n",
        "df #data check"
      ],
      "metadata": {
        "colab": {
          "base_uri": "https://localhost:8080/",
          "height": 423
        },
        "id": "u4ad4r8jXw5r",
        "outputId": "791bdb64-52ee-4a8c-d8af-abcd89a178eb"
      },
      "execution_count": null,
      "outputs": [
        {
          "output_type": "execute_result",
          "data": {
            "text/html": [
              "\n",
              "  <div id=\"df-771f8f3d-bcb8-49df-9685-7fdafeb81140\">\n",
              "    <div class=\"colab-df-container\">\n",
              "      <div>\n",
              "<style scoped>\n",
              "    .dataframe tbody tr th:only-of-type {\n",
              "        vertical-align: middle;\n",
              "    }\n",
              "\n",
              "    .dataframe tbody tr th {\n",
              "        vertical-align: top;\n",
              "    }\n",
              "\n",
              "    .dataframe thead th {\n",
              "        text-align: right;\n",
              "    }\n",
              "</style>\n",
              "<table border=\"1\" class=\"dataframe\">\n",
              "  <thead>\n",
              "    <tr style=\"text-align: right;\">\n",
              "      <th></th>\n",
              "      <th>var1</th>\n",
              "      <th>var2</th>\n",
              "      <th>var3</th>\n",
              "      <th>var4</th>\n",
              "      <th>var5</th>\n",
              "      <th>var6</th>\n",
              "      <th>var7</th>\n",
              "      <th>var8</th>\n",
              "      <th>target</th>\n",
              "    </tr>\n",
              "  </thead>\n",
              "  <tbody>\n",
              "    <tr>\n",
              "      <th>0</th>\n",
              "      <td>1080.0</td>\n",
              "      <td>0.0</td>\n",
              "      <td>0.0</td>\n",
              "      <td>324.0</td>\n",
              "      <td>5.0</td>\n",
              "      <td>2080.0</td>\n",
              "      <td>1352.0</td>\n",
              "      <td>56</td>\n",
              "      <td>79.99</td>\n",
              "    </tr>\n",
              "    <tr>\n",
              "      <th>1</th>\n",
              "      <td>1080.0</td>\n",
              "      <td>0.0</td>\n",
              "      <td>0.0</td>\n",
              "      <td>324.0</td>\n",
              "      <td>5.0</td>\n",
              "      <td>2110.0</td>\n",
              "      <td>1352.0</td>\n",
              "      <td>56</td>\n",
              "      <td>61.89</td>\n",
              "    </tr>\n",
              "    <tr>\n",
              "      <th>2</th>\n",
              "      <td>665.0</td>\n",
              "      <td>285.0</td>\n",
              "      <td>0.0</td>\n",
              "      <td>456.0</td>\n",
              "      <td>0.0</td>\n",
              "      <td>1864.0</td>\n",
              "      <td>1188.0</td>\n",
              "      <td>540</td>\n",
              "      <td>40.27</td>\n",
              "    </tr>\n",
              "    <tr>\n",
              "      <th>3</th>\n",
              "      <td>665.0</td>\n",
              "      <td>285.0</td>\n",
              "      <td>0.0</td>\n",
              "      <td>456.0</td>\n",
              "      <td>0.0</td>\n",
              "      <td>1864.0</td>\n",
              "      <td>1188.0</td>\n",
              "      <td>730</td>\n",
              "      <td>41.05</td>\n",
              "    </tr>\n",
              "    <tr>\n",
              "      <th>4</th>\n",
              "      <td>397.2</td>\n",
              "      <td>264.8</td>\n",
              "      <td>0.0</td>\n",
              "      <td>384.0</td>\n",
              "      <td>0.0</td>\n",
              "      <td>1956.8</td>\n",
              "      <td>1651.0</td>\n",
              "      <td>720</td>\n",
              "      <td>44.30</td>\n",
              "    </tr>\n",
              "    <tr>\n",
              "      <th>...</th>\n",
              "      <td>...</td>\n",
              "      <td>...</td>\n",
              "      <td>...</td>\n",
              "      <td>...</td>\n",
              "      <td>...</td>\n",
              "      <td>...</td>\n",
              "      <td>...</td>\n",
              "      <td>...</td>\n",
              "      <td>...</td>\n",
              "    </tr>\n",
              "    <tr>\n",
              "      <th>1025</th>\n",
              "      <td>552.8</td>\n",
              "      <td>232.0</td>\n",
              "      <td>180.6</td>\n",
              "      <td>359.2</td>\n",
              "      <td>17.8</td>\n",
              "      <td>1740.2</td>\n",
              "      <td>1536.6</td>\n",
              "      <td>56</td>\n",
              "      <td>44.28</td>\n",
              "    </tr>\n",
              "    <tr>\n",
              "      <th>1026</th>\n",
              "      <td>644.4</td>\n",
              "      <td>0.0</td>\n",
              "      <td>231.2</td>\n",
              "      <td>392.0</td>\n",
              "      <td>20.8</td>\n",
              "      <td>1635.8</td>\n",
              "      <td>1626.8</td>\n",
              "      <td>56</td>\n",
              "      <td>31.18</td>\n",
              "    </tr>\n",
              "    <tr>\n",
              "      <th>1027</th>\n",
              "      <td>297.0</td>\n",
              "      <td>278.8</td>\n",
              "      <td>217.2</td>\n",
              "      <td>385.4</td>\n",
              "      <td>12.2</td>\n",
              "      <td>1784.8</td>\n",
              "      <td>1560.0</td>\n",
              "      <td>56</td>\n",
              "      <td>23.70</td>\n",
              "    </tr>\n",
              "    <tr>\n",
              "      <th>1028</th>\n",
              "      <td>318.2</td>\n",
              "      <td>373.4</td>\n",
              "      <td>0.0</td>\n",
              "      <td>351.2</td>\n",
              "      <td>22.6</td>\n",
              "      <td>1979.2</td>\n",
              "      <td>1577.8</td>\n",
              "      <td>56</td>\n",
              "      <td>32.77</td>\n",
              "    </tr>\n",
              "    <tr>\n",
              "      <th>1029</th>\n",
              "      <td>521.8</td>\n",
              "      <td>201.0</td>\n",
              "      <td>156.6</td>\n",
              "      <td>401.2</td>\n",
              "      <td>17.2</td>\n",
              "      <td>1729.0</td>\n",
              "      <td>1523.0</td>\n",
              "      <td>56</td>\n",
              "      <td>32.40</td>\n",
              "    </tr>\n",
              "  </tbody>\n",
              "</table>\n",
              "<p>1030 rows × 9 columns</p>\n",
              "</div>\n",
              "      <button class=\"colab-df-convert\" onclick=\"convertToInteractive('df-771f8f3d-bcb8-49df-9685-7fdafeb81140')\"\n",
              "              title=\"Convert this dataframe to an interactive table.\"\n",
              "              style=\"display:none;\">\n",
              "        \n",
              "  <svg xmlns=\"http://www.w3.org/2000/svg\" height=\"24px\"viewBox=\"0 0 24 24\"\n",
              "       width=\"24px\">\n",
              "    <path d=\"M0 0h24v24H0V0z\" fill=\"none\"/>\n",
              "    <path d=\"M18.56 5.44l.94 2.06.94-2.06 2.06-.94-2.06-.94-.94-2.06-.94 2.06-2.06.94zm-11 1L8.5 8.5l.94-2.06 2.06-.94-2.06-.94L8.5 2.5l-.94 2.06-2.06.94zm10 10l.94 2.06.94-2.06 2.06-.94-2.06-.94-.94-2.06-.94 2.06-2.06.94z\"/><path d=\"M17.41 7.96l-1.37-1.37c-.4-.4-.92-.59-1.43-.59-.52 0-1.04.2-1.43.59L10.3 9.45l-7.72 7.72c-.78.78-.78 2.05 0 2.83L4 21.41c.39.39.9.59 1.41.59.51 0 1.02-.2 1.41-.59l7.78-7.78 2.81-2.81c.8-.78.8-2.07 0-2.86zM5.41 20L4 18.59l7.72-7.72 1.47 1.35L5.41 20z\"/>\n",
              "  </svg>\n",
              "      </button>\n",
              "      \n",
              "  <style>\n",
              "    .colab-df-container {\n",
              "      display:flex;\n",
              "      flex-wrap:wrap;\n",
              "      gap: 12px;\n",
              "    }\n",
              "\n",
              "    .colab-df-convert {\n",
              "      background-color: #E8F0FE;\n",
              "      border: none;\n",
              "      border-radius: 50%;\n",
              "      cursor: pointer;\n",
              "      display: none;\n",
              "      fill: #1967D2;\n",
              "      height: 32px;\n",
              "      padding: 0 0 0 0;\n",
              "      width: 32px;\n",
              "    }\n",
              "\n",
              "    .colab-df-convert:hover {\n",
              "      background-color: #E2EBFA;\n",
              "      box-shadow: 0px 1px 2px rgba(60, 64, 67, 0.3), 0px 1px 3px 1px rgba(60, 64, 67, 0.15);\n",
              "      fill: #174EA6;\n",
              "    }\n",
              "\n",
              "    [theme=dark] .colab-df-convert {\n",
              "      background-color: #3B4455;\n",
              "      fill: #D2E3FC;\n",
              "    }\n",
              "\n",
              "    [theme=dark] .colab-df-convert:hover {\n",
              "      background-color: #434B5C;\n",
              "      box-shadow: 0px 1px 3px 1px rgba(0, 0, 0, 0.15);\n",
              "      filter: drop-shadow(0px 1px 2px rgba(0, 0, 0, 0.3));\n",
              "      fill: #FFFFFF;\n",
              "    }\n",
              "  </style>\n",
              "\n",
              "      <script>\n",
              "        const buttonEl =\n",
              "          document.querySelector('#df-771f8f3d-bcb8-49df-9685-7fdafeb81140 button.colab-df-convert');\n",
              "        buttonEl.style.display =\n",
              "          google.colab.kernel.accessAllowed ? 'block' : 'none';\n",
              "\n",
              "        async function convertToInteractive(key) {\n",
              "          const element = document.querySelector('#df-771f8f3d-bcb8-49df-9685-7fdafeb81140');\n",
              "          const dataTable =\n",
              "            await google.colab.kernel.invokeFunction('convertToInteractive',\n",
              "                                                     [key], {});\n",
              "          if (!dataTable) return;\n",
              "\n",
              "          const docLinkHtml = 'Like what you see? Visit the ' +\n",
              "            '<a target=\"_blank\" href=https://colab.research.google.com/notebooks/data_table.ipynb>data table notebook</a>'\n",
              "            + ' to learn more about interactive tables.';\n",
              "          element.innerHTML = '';\n",
              "          dataTable['output_type'] = 'display_data';\n",
              "          await google.colab.output.renderOutput(dataTable, element);\n",
              "          const docLink = document.createElement('div');\n",
              "          docLink.innerHTML = docLinkHtml;\n",
              "          element.appendChild(docLink);\n",
              "        }\n",
              "      </script>\n",
              "    </div>\n",
              "  </div>\n",
              "  "
            ],
            "text/plain": [
              "        var1   var2   var3   var4  var5    var6    var7  var8  target\n",
              "0     1080.0    0.0    0.0  324.0   5.0  2080.0  1352.0    56   79.99\n",
              "1     1080.0    0.0    0.0  324.0   5.0  2110.0  1352.0    56   61.89\n",
              "2      665.0  285.0    0.0  456.0   0.0  1864.0  1188.0   540   40.27\n",
              "3      665.0  285.0    0.0  456.0   0.0  1864.0  1188.0   730   41.05\n",
              "4      397.2  264.8    0.0  384.0   0.0  1956.8  1651.0   720   44.30\n",
              "...      ...    ...    ...    ...   ...     ...     ...   ...     ...\n",
              "1025   552.8  232.0  180.6  359.2  17.8  1740.2  1536.6    56   44.28\n",
              "1026   644.4    0.0  231.2  392.0  20.8  1635.8  1626.8    56   31.18\n",
              "1027   297.0  278.8  217.2  385.4  12.2  1784.8  1560.0    56   23.70\n",
              "1028   318.2  373.4    0.0  351.2  22.6  1979.2  1577.8    56   32.77\n",
              "1029   521.8  201.0  156.6  401.2  17.2  1729.0  1523.0    56   32.40\n",
              "\n",
              "[1030 rows x 9 columns]"
            ]
          },
          "metadata": {},
          "execution_count": 20
        }
      ]
    },
    {
      "cell_type": "code",
      "source": [
        "df = StandardScaler().fit_transform(df.values) #normalizing the data"
      ],
      "metadata": {
        "id": "wWFZQJZorfi4"
      },
      "execution_count": null,
      "outputs": []
    },
    {
      "cell_type": "code",
      "source": [
        "X =  df[:,0:8] #features\n",
        "Y =  df[:,8:] #Target"
      ],
      "metadata": {
        "id": "qz0bYEGPXwhJ"
      },
      "execution_count": null,
      "outputs": []
    },
    {
      "cell_type": "code",
      "source": [
        "X = pd.DataFrame(X) #re-checking the data shape after reshaping\n",
        "Y = pd.DataFrame(Y) "
      ],
      "metadata": {
        "id": "EHMWY83zXwa1"
      },
      "execution_count": null,
      "outputs": []
    },
    {
      "cell_type": "code",
      "source": [
        "X_train, X_test, Y_train, Y_test = train_test_split(X, Y, test_size=0.3, random_state=7776) #spliting the data into traning and testing"
      ],
      "metadata": {
        "id": "b07iN-tlXwXz"
      },
      "execution_count": null,
      "outputs": []
    },
    {
      "cell_type": "code",
      "source": [
        "#creating the model\n",
        "def NNL():\n",
        "    model = Sequential()\n",
        "    model.add(Dense(units = 16, input_dim=8, activation='relu'))\n",
        "    model.add(Dense(units = 12, activation='relu'))\n",
        "    model.add(Dense(units = 8, activation='relu'))\n",
        "\n",
        "    # add a fully connected layer for the output\n",
        "    model.add(Dense(units=1, activation='relu'))\n",
        "                                                 \n",
        "    model.compile(loss='mse', optimizer='adam',metrics=[metrics.mse])\n",
        "    \n",
        "    return model"
      ],
      "metadata": {
        "id": "MjOSFDJ3XwSC"
      },
      "execution_count": null,
      "outputs": []
    },
    {
      "cell_type": "code",
      "source": [
        "model = NNL() #initializing the model\n",
        "model.summary() #checking model parameters"
      ],
      "metadata": {
        "colab": {
          "base_uri": "https://localhost:8080/"
        },
        "id": "PXvVZFk2nADF",
        "outputId": "daeec958-ab4c-4f3a-ae69-b57bcd9d2482"
      },
      "execution_count": null,
      "outputs": [
        {
          "output_type": "stream",
          "name": "stdout",
          "text": [
            "Model: \"sequential_1\"\n",
            "_________________________________________________________________\n",
            " Layer (type)                Output Shape              Param #   \n",
            "=================================================================\n",
            " dense_4 (Dense)             (None, 16)                144       \n",
            "                                                                 \n",
            " dense_5 (Dense)             (None, 12)                204       \n",
            "                                                                 \n",
            " dense_6 (Dense)             (None, 8)                 104       \n",
            "                                                                 \n",
            " dense_7 (Dense)             (None, 1)                 9         \n",
            "                                                                 \n",
            "=================================================================\n",
            "Total params: 461\n",
            "Trainable params: 461\n",
            "Non-trainable params: 0\n",
            "_________________________________________________________________\n"
          ]
        }
      ]
    },
    {
      "cell_type": "code",
      "source": [
        "history = model.fit(X_train, Y_train, epochs=100, batch_size=20, verbose=1) #training the model"
      ],
      "metadata": {
        "colab": {
          "base_uri": "https://localhost:8080/"
        },
        "id": "8fS6tm6nXwPm",
        "outputId": "9c676fd6-4cfa-4f20-c57d-ece10f3780d9"
      },
      "execution_count": null,
      "outputs": [
        {
          "output_type": "stream",
          "name": "stdout",
          "text": [
            "Epoch 1/30\n",
            "181/181 [==============================] - 1s 1ms/step - loss: 1.0355 - mean_squared_error: 1.0355\n",
            "Epoch 2/30\n",
            "181/181 [==============================] - 0s 1ms/step - loss: 1.0255 - mean_squared_error: 1.0255\n",
            "Epoch 3/30\n",
            "181/181 [==============================] - 0s 2ms/step - loss: 0.8478 - mean_squared_error: 0.8478\n",
            "Epoch 4/30\n",
            "181/181 [==============================] - 0s 1ms/step - loss: 0.6824 - mean_squared_error: 0.6824\n",
            "Epoch 5/30\n",
            "181/181 [==============================] - 0s 1ms/step - loss: 0.6242 - mean_squared_error: 0.6242\n",
            "Epoch 6/30\n",
            "181/181 [==============================] - 0s 2ms/step - loss: 0.5870 - mean_squared_error: 0.5870\n",
            "Epoch 7/30\n",
            "181/181 [==============================] - 0s 2ms/step - loss: 0.5683 - mean_squared_error: 0.5683\n",
            "Epoch 8/30\n",
            "181/181 [==============================] - 0s 1ms/step - loss: 0.5540 - mean_squared_error: 0.5540\n",
            "Epoch 9/30\n",
            "181/181 [==============================] - 0s 2ms/step - loss: 0.5447 - mean_squared_error: 0.5447\n",
            "Epoch 10/30\n",
            "181/181 [==============================] - 0s 1ms/step - loss: 0.5333 - mean_squared_error: 0.5333\n",
            "Epoch 11/30\n",
            "181/181 [==============================] - 0s 1ms/step - loss: 0.5308 - mean_squared_error: 0.5308\n",
            "Epoch 12/30\n",
            "181/181 [==============================] - 0s 1ms/step - loss: 0.5208 - mean_squared_error: 0.5208\n",
            "Epoch 13/30\n",
            "181/181 [==============================] - 0s 1ms/step - loss: 0.5165 - mean_squared_error: 0.5165\n",
            "Epoch 14/30\n",
            "181/181 [==============================] - 0s 1ms/step - loss: 0.5102 - mean_squared_error: 0.5102\n",
            "Epoch 15/30\n",
            "181/181 [==============================] - 0s 1ms/step - loss: 0.5033 - mean_squared_error: 0.5033\n",
            "Epoch 16/30\n",
            "181/181 [==============================] - 0s 1ms/step - loss: 0.4998 - mean_squared_error: 0.4998\n",
            "Epoch 17/30\n",
            "181/181 [==============================] - 0s 1ms/step - loss: 0.4970 - mean_squared_error: 0.4970\n",
            "Epoch 18/30\n",
            "181/181 [==============================] - 0s 1ms/step - loss: 0.4984 - mean_squared_error: 0.4984\n",
            "Epoch 19/30\n",
            "181/181 [==============================] - 0s 1ms/step - loss: 0.4925 - mean_squared_error: 0.4925\n",
            "Epoch 20/30\n",
            "181/181 [==============================] - 0s 1ms/step - loss: 0.4898 - mean_squared_error: 0.4898\n",
            "Epoch 21/30\n",
            "181/181 [==============================] - 0s 1ms/step - loss: 0.4896 - mean_squared_error: 0.4896\n",
            "Epoch 22/30\n",
            "181/181 [==============================] - 0s 1ms/step - loss: 0.4878 - mean_squared_error: 0.4878\n",
            "Epoch 23/30\n",
            "181/181 [==============================] - 0s 1ms/step - loss: 0.4896 - mean_squared_error: 0.4896\n",
            "Epoch 24/30\n",
            "181/181 [==============================] - 0s 1ms/step - loss: 0.4827 - mean_squared_error: 0.4827\n",
            "Epoch 25/30\n",
            "181/181 [==============================] - 0s 1ms/step - loss: 0.4825 - mean_squared_error: 0.4825\n",
            "Epoch 26/30\n",
            "181/181 [==============================] - 0s 1ms/step - loss: 0.4802 - mean_squared_error: 0.4802\n",
            "Epoch 27/30\n",
            "181/181 [==============================] - 0s 1ms/step - loss: 0.4793 - mean_squared_error: 0.4793\n",
            "Epoch 28/30\n",
            "181/181 [==============================] - 0s 1ms/step - loss: 0.4791 - mean_squared_error: 0.4791\n",
            "Epoch 29/30\n",
            "181/181 [==============================] - 0s 1ms/step - loss: 0.4801 - mean_squared_error: 0.4801\n",
            "Epoch 30/30\n",
            "181/181 [==============================] - 0s 1ms/step - loss: 0.4766 - mean_squared_error: 0.4766\n"
          ]
        }
      ]
    },
    {
      "cell_type": "code",
      "source": [
        "prediction = model.predict(X_test) #Testing the model"
      ],
      "metadata": {
        "id": "fpgOj3CmnkGh"
      },
      "execution_count": null,
      "outputs": []
    },
    {
      "cell_type": "code",
      "source": [
        "print(\"MSE= \"+str(mean_squared_error(Y_test, prediction))) #computing the mean squared error. Checking the performance of the model"
      ],
      "metadata": {
        "colab": {
          "base_uri": "https://localhost:8080/"
        },
        "id": "Cpy75vPlvqpy",
        "outputId": "3c7c75fa-c320-44aa-d383-66c5a3bd91db"
      },
      "execution_count": null,
      "outputs": [
        {
          "output_type": "stream",
          "name": "stdout",
          "text": [
            "MSE= 0.5593684275577835\n"
          ]
        }
      ]
    },
    {
      "cell_type": "code",
      "source": [
        "#Mean Absolute Error\n",
        "print(\"MAE= \"+str(mean_absolute_error( Y_test, prediction)))"
      ],
      "metadata": {
        "colab": {
          "base_uri": "https://localhost:8080/"
        },
        "id": "A7DqQzBSp9y6",
        "outputId": "6530dbb6-8e8d-4359-9829-92810f6c8e65"
      },
      "execution_count": null,
      "outputs": [
        {
          "output_type": "stream",
          "name": "stdout",
          "text": [
            "MAE= 0.5718646460637958\n"
          ]
        }
      ]
    },
    {
      "cell_type": "code",
      "source": [
        "#Ploting the Mean squared error for the model\n",
        "plt.figure(figsize=(8, 8))\n",
        "plt.plot(history.history['mean_squared_error'])\n",
        "plt.title('Model loss')\n",
        "plt.ylabel('Mean Squared Error')\n",
        "plt.xlabel('Epoch')\n",
        "plt.show()"
      ],
      "metadata": {
        "colab": {
          "base_uri": "https://localhost:8080/",
          "height": 513
        },
        "id": "okpFM4g5nrzG",
        "outputId": "3e9b15a5-ee19-4ceb-8fed-72b90f8300a4"
      },
      "execution_count": null,
      "outputs": [
        {
          "output_type": "display_data",
          "data": {
            "image/png": "[encoded data removed]",
            "text/plain": [
              "<Figure size 576x576 with 1 Axes>"
            ]
          },
          "metadata": {
            "needs_background": "light"
          }
        }
      ]
    }
  ]
}