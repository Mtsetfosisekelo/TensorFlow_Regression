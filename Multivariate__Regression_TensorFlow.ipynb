{
  "nbformat": 4,
  "nbformat_minor": 0,
  "metadata": {
    "colab": {
      "name": "Multivariate _Regression_TensorFlow.ipynb",
      "provenance": [],
      "collapsed_sections": []
    },
    "kernelspec": {
      "name": "python3",
      "display_name": "Python 3"
    }
  },
  "cells": [
    {
      "cell_type": "markdown",
      "metadata": {
        "id": "OpPhNErAUooE"
      },
      "source": [
        "## Regression With Neural Networks\n"
      ]
    },
    {
      "cell_type": "code",
      "metadata": {
        "id": "U8M1nH2IzI7x"
      },
      "source": [
        "#importing required modules\n",
        "import numpy as np\n",
        "import pandas\n",
        "import tensorflow as tf\n",
        "from tensorflow.keras import Sequential #create model\n",
        "from tensorflow.keras.layers import Dense #add layers to model\n",
        "from tensorflow.keras import metrics\n",
        "from tensorflow.keras.wrappers.scikit_learn import KerasRegressor\n",
        "from sklearn.metrics import mean_squared_error #to calculate mse\n",
        "from sklearn.model_selection import train_test_split #to split the data\n",
        "import matplotlib.pyplot as plt\n",
        "\n",
        "np.random.seed(1337) # for reproducibility"
      ],
      "execution_count": null,
      "outputs": []
    },
    {
      "cell_type": "code",
      "metadata": {
        "id": "wae_HjknzI8E"
      },
      "source": [
        "dataframe = pandas.read_csv(\"https://raw.githubusercontent.com/eijaz1/Deep-Learning-in-Keras-Tutorial/master/data/hourly_wages_data.csv\")\n",
        "dataset = dataframe.values"
      ],
      "execution_count": null,
      "outputs": []
    },
    {
      "cell_type": "code",
      "metadata": {
        "id": "pM9-iHobzI8L",
        "outputId": "d6233048-c2d7-474d-a1d4-fa899d08291a",
        "colab": {
          "base_uri": "https://localhost:8080/",
          "height": 206
        }
      },
      "source": [
        "dataframe.head() #head view of the data"
      ],
      "execution_count": null,
      "outputs": [
        {
          "output_type": "execute_result",
          "data": {
            "text/html": [
              "\n",
              "  <div id=\"df-642c1773-f68a-4c96-9a30-0526ac94278a\">\n",
              "    <div class=\"colab-df-container\">\n",
              "      <div>\n",
              "<style scoped>\n",
              "    .dataframe tbody tr th:only-of-type {\n",
              "        vertical-align: middle;\n",
              "    }\n",
              "\n",
              "    .dataframe tbody tr th {\n",
              "        vertical-align: top;\n",
              "    }\n",
              "\n",
              "    .dataframe thead th {\n",
              "        text-align: right;\n",
              "    }\n",
              "</style>\n",
              "<table border=\"1\" class=\"dataframe\">\n",
              "  <thead>\n",
              "    <tr style=\"text-align: right;\">\n",
              "      <th></th>\n",
              "      <th>wage_per_hour</th>\n",
              "      <th>union</th>\n",
              "      <th>education_yrs</th>\n",
              "      <th>experience_yrs</th>\n",
              "      <th>age</th>\n",
              "      <th>female</th>\n",
              "      <th>marr</th>\n",
              "      <th>south</th>\n",
              "      <th>manufacturing</th>\n",
              "      <th>construction</th>\n",
              "    </tr>\n",
              "  </thead>\n",
              "  <tbody>\n",
              "    <tr>\n",
              "      <th>0</th>\n",
              "      <td>5.10</td>\n",
              "      <td>0</td>\n",
              "      <td>8</td>\n",
              "      <td>21</td>\n",
              "      <td>35</td>\n",
              "      <td>1</td>\n",
              "      <td>1</td>\n",
              "      <td>0</td>\n",
              "      <td>1</td>\n",
              "      <td>0</td>\n",
              "    </tr>\n",
              "    <tr>\n",
              "      <th>1</th>\n",
              "      <td>4.95</td>\n",
              "      <td>0</td>\n",
              "      <td>9</td>\n",
              "      <td>42</td>\n",
              "      <td>57</td>\n",
              "      <td>1</td>\n",
              "      <td>1</td>\n",
              "      <td>0</td>\n",
              "      <td>1</td>\n",
              "      <td>0</td>\n",
              "    </tr>\n",
              "    <tr>\n",
              "      <th>2</th>\n",
              "      <td>6.67</td>\n",
              "      <td>0</td>\n",
              "      <td>12</td>\n",
              "      <td>1</td>\n",
              "      <td>19</td>\n",
              "      <td>0</td>\n",
              "      <td>0</td>\n",
              "      <td>0</td>\n",
              "      <td>1</td>\n",
              "      <td>0</td>\n",
              "    </tr>\n",
              "    <tr>\n",
              "      <th>3</th>\n",
              "      <td>4.00</td>\n",
              "      <td>0</td>\n",
              "      <td>12</td>\n",
              "      <td>4</td>\n",
              "      <td>22</td>\n",
              "      <td>0</td>\n",
              "      <td>0</td>\n",
              "      <td>0</td>\n",
              "      <td>0</td>\n",
              "      <td>0</td>\n",
              "    </tr>\n",
              "    <tr>\n",
              "      <th>4</th>\n",
              "      <td>7.50</td>\n",
              "      <td>0</td>\n",
              "      <td>12</td>\n",
              "      <td>17</td>\n",
              "      <td>35</td>\n",
              "      <td>0</td>\n",
              "      <td>1</td>\n",
              "      <td>0</td>\n",
              "      <td>0</td>\n",
              "      <td>0</td>\n",
              "    </tr>\n",
              "  </tbody>\n",
              "</table>\n",
              "</div>\n",
              "      <button class=\"colab-df-convert\" onclick=\"convertToInteractive('df-642c1773-f68a-4c96-9a30-0526ac94278a')\"\n",
              "              title=\"Convert this dataframe to an interactive table.\"\n",
              "              style=\"display:none;\">\n",
              "        \n",
              "  <svg xmlns=\"http://www.w3.org/2000/svg\" height=\"24px\"viewBox=\"0 0 24 24\"\n",
              "       width=\"24px\">\n",
              "    <path d=\"M0 0h24v24H0V0z\" fill=\"none\"/>\n",
              "    <path d=\"M18.56 5.44l.94 2.06.94-2.06 2.06-.94-2.06-.94-.94-2.06-.94 2.06-2.06.94zm-11 1L8.5 8.5l.94-2.06 2.06-.94-2.06-.94L8.5 2.5l-.94 2.06-2.06.94zm10 10l.94 2.06.94-2.06 2.06-.94-2.06-.94-.94-2.06-.94 2.06-2.06.94z\"/><path d=\"M17.41 7.96l-1.37-1.37c-.4-.4-.92-.59-1.43-.59-.52 0-1.04.2-1.43.59L10.3 9.45l-7.72 7.72c-.78.78-.78 2.05 0 2.83L4 21.41c.39.39.9.59 1.41.59.51 0 1.02-.2 1.41-.59l7.78-7.78 2.81-2.81c.8-.78.8-2.07 0-2.86zM5.41 20L4 18.59l7.72-7.72 1.47 1.35L5.41 20z\"/>\n",
              "  </svg>\n",
              "      </button>\n",
              "      \n",
              "  <style>\n",
              "    .colab-df-container {\n",
              "      display:flex;\n",
              "      flex-wrap:wrap;\n",
              "      gap: 12px;\n",
              "    }\n",
              "\n",
              "    .colab-df-convert {\n",
              "      background-color: #E8F0FE;\n",
              "      border: none;\n",
              "      border-radius: 50%;\n",
              "      cursor: pointer;\n",
              "      display: none;\n",
              "      fill: #1967D2;\n",
              "      height: 32px;\n",
              "      padding: 0 0 0 0;\n",
              "      width: 32px;\n",
              "    }\n",
              "\n",
              "    .colab-df-convert:hover {\n",
              "      background-color: #E2EBFA;\n",
              "      box-shadow: 0px 1px 2px rgba(60, 64, 67, 0.3), 0px 1px 3px 1px rgba(60, 64, 67, 0.15);\n",
              "      fill: #174EA6;\n",
              "    }\n",
              "\n",
              "    [theme=dark] .colab-df-convert {\n",
              "      background-color: #3B4455;\n",
              "      fill: #D2E3FC;\n",
              "    }\n",
              "\n",
              "    [theme=dark] .colab-df-convert:hover {\n",
              "      background-color: #434B5C;\n",
              "      box-shadow: 0px 1px 3px 1px rgba(0, 0, 0, 0.15);\n",
              "      filter: drop-shadow(0px 1px 2px rgba(0, 0, 0, 0.3));\n",
              "      fill: #FFFFFF;\n",
              "    }\n",
              "  </style>\n",
              "\n",
              "      <script>\n",
              "        const buttonEl =\n",
              "          document.querySelector('#df-642c1773-f68a-4c96-9a30-0526ac94278a button.colab-df-convert');\n",
              "        buttonEl.style.display =\n",
              "          google.colab.kernel.accessAllowed ? 'block' : 'none';\n",
              "\n",
              "        async function convertToInteractive(key) {\n",
              "          const element = document.querySelector('#df-642c1773-f68a-4c96-9a30-0526ac94278a');\n",
              "          const dataTable =\n",
              "            await google.colab.kernel.invokeFunction('convertToInteractive',\n",
              "                                                     [key], {});\n",
              "          if (!dataTable) return;\n",
              "\n",
              "          const docLinkHtml = 'Like what you see? Visit the ' +\n",
              "            '<a target=\"_blank\" href=https://colab.research.google.com/notebooks/data_table.ipynb>data table notebook</a>'\n",
              "            + ' to learn more about interactive tables.';\n",
              "          element.innerHTML = '';\n",
              "          dataTable['output_type'] = 'display_data';\n",
              "          await google.colab.output.renderOutput(dataTable, element);\n",
              "          const docLink = document.createElement('div');\n",
              "          docLink.innerHTML = docLinkHtml;\n",
              "          element.appendChild(docLink);\n",
              "        }\n",
              "      </script>\n",
              "    </div>\n",
              "  </div>\n",
              "  "
            ],
            "text/plain": [
              "   wage_per_hour  union  education_yrs  ...  south  manufacturing  construction\n",
              "0           5.10      0              8  ...      0              1             0\n",
              "1           4.95      0              9  ...      0              1             0\n",
              "2           6.67      0             12  ...      0              1             0\n",
              "3           4.00      0             12  ...      0              0             0\n",
              "4           7.50      0             12  ...      0              0             0\n",
              "\n",
              "[5 rows x 10 columns]"
            ]
          },
          "metadata": {},
          "execution_count": 3
        }
      ]
    },
    {
      "cell_type": "code",
      "metadata": {
        "id": "fpXOcpfNzI8f"
      },
      "source": [
        "X = dataframe.drop(columns=['wage_per_hour']).values #Features\n",
        "Y = dataframe['wage_per_hour'].values #Target\n",
        "\n",
        "print(\"X shape= \"+str(X.shape),\"\\n\"\"Y shape= \"+str(Y.reshape(-1,1).shape)) #checking consistancy of the data"
      ],
      "execution_count": null,
      "outputs": []
    },
    {
      "cell_type": "markdown",
      "source": [
        "# Data Split and Checking Strutures"
      ],
      "metadata": {
        "id": "NXmzYCRO3Qmd"
      }
    },
    {
      "cell_type": "code",
      "source": [
        "X_train, X_test, Y_train, Y_test = train_test_split(X, Y, test_size=.3) #spliting the data into testing and training\n",
        "print(\"X_train shape= \"+str(X_train.shape),\"\\n\"\"Y_train shape= \"+str(Y_train.reshape(-1,1).shape)) #data checking (training data)\n",
        "print(\"X_test shape= \"+str(X_test.shape),\"\\n\"\"Y_test shape= \"+str(Y_test.reshape(-1,1).shape)) #data checking (testing data)"
      ],
      "metadata": {
        "id": "80xAA_hVVDV0",
        "outputId": "bbc306cc-1756-427a-fabe-4b32bf5fe240",
        "colab": {
          "base_uri": "https://localhost:8080/"
        }
      },
      "execution_count": null,
      "outputs": [
        {
          "output_type": "stream",
          "name": "stdout",
          "text": [
            "X_train shape= (373, 9) \n",
            "Y_train shape= (373, 1)\n",
            "X_test shape= (161, 9) \n",
            "Y_test shape= (161, 1)\n"
          ]
        }
      ]
    },
    {
      "cell_type": "code",
      "source": [
        "#creating the model\n",
        "def wages():\n",
        "    model = Sequential()\n",
        "    model.add(Dense(units = 7, input_dim=9, activation='relu'))\n",
        "    model.add(Dense(units = 3, activation='relu'))\n",
        "\n",
        "    model.add(Dense(units=1, activation='linear')) \n",
        "\n",
        "    model.compile(loss='mse', optimizer='adam',metrics=[metrics.mse]) #line to compute the mean squared error\n",
        "    \n",
        "    return model"
      ],
      "metadata": {
        "id": "5ZPC--FC3pGL"
      },
      "execution_count": null,
      "outputs": []
    },
    {
      "cell_type": "code",
      "source": [
        "model = wages() #initializing the model\n",
        "model.summary() #checking model parameters"
      ],
      "metadata": {
        "id": "FozEuuqA3pD4",
        "outputId": "95e69023-2b77-4620-8882-182ceebe8732",
        "colab": {
          "base_uri": "https://localhost:8080/"
        }
      },
      "execution_count": null,
      "outputs": [
        {
          "output_type": "stream",
          "name": "stdout",
          "text": [
            "Model: \"sequential\"\n",
            "_________________________________________________________________\n",
            " Layer (type)                Output Shape              Param #   \n",
            "=================================================================\n",
            " dense (Dense)               (None, 7)                 70        \n",
            "                                                                 \n",
            " dense_1 (Dense)             (None, 3)                 24        \n",
            "                                                                 \n",
            " dense_2 (Dense)             (None, 1)                 4         \n",
            "                                                                 \n",
            "=================================================================\n",
            "Total params: 98\n",
            "Trainable params: 98\n",
            "Non-trainable params: 0\n",
            "_________________________________________________________________\n"
          ]
        }
      ]
    },
    {
      "cell_type": "code",
      "source": [
        "history = model.fit(X_train, Y_train, epochs=100, batch_size=4, verbose=1) #training the model"
      ],
      "metadata": {
        "id": "qXOng_Kk3oGV",
        "outputId": "c49f60ff-efb4-4693-b760-3db68c94d351",
        "colab": {
          "base_uri": "https://localhost:8080/"
        }
      },
      "execution_count": null,
      "outputs": [
        {
          "output_type": "stream",
          "name": "stdout",
          "text": [
            "Epoch 1/24\n",
            "94/94 [==============================] - 1s 1ms/step - loss: 115.3904 - mean_squared_error: 115.3904\n",
            "Epoch 2/24\n",
            "94/94 [==============================] - 0s 1ms/step - loss: 35.2597 - mean_squared_error: 35.2597\n",
            "Epoch 3/24\n",
            "94/94 [==============================] - 0s 1ms/step - loss: 29.7920 - mean_squared_error: 29.7920\n",
            "Epoch 4/24\n",
            "94/94 [==============================] - 0s 1ms/step - loss: 27.6132 - mean_squared_error: 27.6132\n",
            "Epoch 5/24\n",
            "94/94 [==============================] - 0s 1ms/step - loss: 26.5104 - mean_squared_error: 26.5104\n",
            "Epoch 6/24\n",
            "94/94 [==============================] - 0s 1ms/step - loss: 25.7143 - mean_squared_error: 25.7143\n",
            "Epoch 7/24\n",
            "94/94 [==============================] - 0s 1ms/step - loss: 25.0420 - mean_squared_error: 25.0420\n",
            "Epoch 8/24\n",
            "94/94 [==============================] - 0s 1ms/step - loss: 24.1868 - mean_squared_error: 24.1868\n",
            "Epoch 9/24\n",
            "94/94 [==============================] - 0s 1ms/step - loss: 24.8904 - mean_squared_error: 24.8904\n",
            "Epoch 10/24\n",
            "94/94 [==============================] - 0s 1ms/step - loss: 24.1207 - mean_squared_error: 24.1207\n",
            "Epoch 11/24\n",
            "94/94 [==============================] - 0s 1ms/step - loss: 23.9470 - mean_squared_error: 23.9470\n",
            "Epoch 12/24\n",
            "94/94 [==============================] - 0s 1ms/step - loss: 24.1968 - mean_squared_error: 24.1968\n",
            "Epoch 13/24\n",
            "94/94 [==============================] - 0s 2ms/step - loss: 23.8390 - mean_squared_error: 23.8390\n",
            "Epoch 14/24\n",
            "94/94 [==============================] - 0s 1ms/step - loss: 23.6296 - mean_squared_error: 23.6296\n",
            "Epoch 15/24\n",
            "94/94 [==============================] - 0s 1ms/step - loss: 23.9016 - mean_squared_error: 23.9016\n",
            "Epoch 16/24\n",
            "94/94 [==============================] - 0s 1ms/step - loss: 23.6151 - mean_squared_error: 23.6151\n",
            "Epoch 17/24\n",
            "94/94 [==============================] - 0s 1ms/step - loss: 23.7191 - mean_squared_error: 23.7191\n",
            "Epoch 18/24\n",
            "94/94 [==============================] - 0s 1ms/step - loss: 23.4441 - mean_squared_error: 23.4441\n",
            "Epoch 19/24\n",
            "94/94 [==============================] - 0s 1ms/step - loss: 23.3896 - mean_squared_error: 23.3896\n",
            "Epoch 20/24\n",
            "94/94 [==============================] - 0s 1ms/step - loss: 22.8846 - mean_squared_error: 22.8846\n",
            "Epoch 21/24\n",
            "94/94 [==============================] - 0s 1ms/step - loss: 24.6391 - mean_squared_error: 24.6391\n",
            "Epoch 22/24\n",
            "94/94 [==============================] - 0s 1ms/step - loss: 23.0918 - mean_squared_error: 23.0918\n",
            "Epoch 23/24\n",
            "94/94 [==============================] - 0s 2ms/step - loss: 23.1154 - mean_squared_error: 23.1154\n",
            "Epoch 24/24\n",
            "94/94 [==============================] - 0s 1ms/step - loss: 23.0723 - mean_squared_error: 23.0723\n"
          ]
        }
      ]
    },
    {
      "cell_type": "code",
      "source": [
        "prediction = model.predict(X_test) #Testing the model\n",
        "print(\"MSE= \"+str(mean_squared_error(Y_test, prediction))) #computing the mean squared error. Checking the performance of the model"
      ],
      "metadata": {
        "id": "-rPClNLc_8gu",
        "outputId": "f7ddfe71-3304-4c70-cdce-b7c13bf7b032",
        "colab": {
          "base_uri": "https://localhost:8080/"
        }
      },
      "execution_count": null,
      "outputs": [
        {
          "output_type": "stream",
          "name": "stdout",
          "text": [
            "MSE= 14.202530877533933\n"
          ]
        }
      ]
    },
    {
      "cell_type": "code",
      "source": [
        "#Plot of the model loss in training\n",
        "plt.figure(figsize=(8, 8))\n",
        "plt.plot(history.history['mean_squared_error'])\n",
        "plt.title('Model loss')\n",
        "plt.ylabel('Mean Squared Error')\n",
        "plt.xlabel('Epoch')\n",
        "plt.show()"
      ],
      "metadata": {
        "id": "I5N3aqD1_8WD",
        "outputId": "e254f636-3244-4c72-92c1-34ffe669eb4f",
        "colab": {
          "base_uri": "https://localhost:8080/",
          "height": 513
        }
      },
      "execution_count": null,
      "outputs": [
        {
          "output_type": "display_data",
          "data": {
            "image/png": "[encoded data removed]",
            "text/plain": [
              "<Figure size 576x576 with 1 Axes>"
            ]
          },
          "metadata": {
            "needs_background": "light"
          }
        }
      ]
    }
  ]
}